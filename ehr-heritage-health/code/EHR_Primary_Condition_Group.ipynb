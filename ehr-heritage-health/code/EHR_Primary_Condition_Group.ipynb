{
 "cells": [
  {
   "cell_type": "code",
   "execution_count": 43,
   "metadata": {},
   "outputs": [],
   "source": [
    "import pandas as pd\n",
    "import numpy as np\n",
    "from sklearn.linear_model import LogisticRegression\n",
    "from sklearn.model_selection import train_test_split\n",
    "from sklearn import svm\n",
    "import matplotlib.pyplot as plt\n",
    "\n",
    "data_dir = 'HeritageHealth/HHP_release3/'"
   ]
  },
  {
   "cell_type": "code",
   "execution_count": 2,
   "metadata": {},
   "outputs": [],
   "source": [
    "# Read in data\n",
    "claims = pd.read_csv(data_dir + 'Claims.csv')\n",
    "members = pd.read_csv(data_dir + 'Members.csv')\n",
    "drug = pd.read_csv(data_dir + 'DrugCount.csv')\n",
    "lab = pd.read_csv(data_dir + 'LabCount.csv')"
   ]
  },
  {
   "cell_type": "code",
   "execution_count": 3,
   "metadata": {},
   "outputs": [
    {
     "data": {
      "text/html": [
       "<div>\n",
       "<style scoped>\n",
       "    .dataframe tbody tr th:only-of-type {\n",
       "        vertical-align: middle;\n",
       "    }\n",
       "\n",
       "    .dataframe tbody tr th {\n",
       "        vertical-align: top;\n",
       "    }\n",
       "\n",
       "    .dataframe thead th {\n",
       "        text-align: right;\n",
       "    }\n",
       "</style>\n",
       "<table border=\"1\" class=\"dataframe\">\n",
       "  <thead>\n",
       "    <tr style=\"text-align: right;\">\n",
       "      <th></th>\n",
       "      <th>MemberID</th>\n",
       "      <th>AgeAtFirstClaim</th>\n",
       "      <th>Sex</th>\n",
       "    </tr>\n",
       "  </thead>\n",
       "  <tbody>\n",
       "    <tr>\n",
       "      <th>0</th>\n",
       "      <td>14723353</td>\n",
       "      <td>75</td>\n",
       "      <td>M</td>\n",
       "    </tr>\n",
       "    <tr>\n",
       "      <th>1</th>\n",
       "      <td>75706636</td>\n",
       "      <td>75</td>\n",
       "      <td>M</td>\n",
       "    </tr>\n",
       "    <tr>\n",
       "      <th>2</th>\n",
       "      <td>17320609</td>\n",
       "      <td>75</td>\n",
       "      <td>M</td>\n",
       "    </tr>\n",
       "    <tr>\n",
       "      <th>3</th>\n",
       "      <td>69690888</td>\n",
       "      <td>45</td>\n",
       "      <td>M</td>\n",
       "    </tr>\n",
       "    <tr>\n",
       "      <th>4</th>\n",
       "      <td>33004608</td>\n",
       "      <td>5</td>\n",
       "      <td>M</td>\n",
       "    </tr>\n",
       "  </tbody>\n",
       "</table>\n",
       "</div>"
      ],
      "text/plain": [
       "   MemberID  AgeAtFirstClaim Sex\n",
       "0  14723353               75   M\n",
       "1  75706636               75   M\n",
       "2  17320609               75   M\n",
       "3  69690888               45   M\n",
       "4  33004608                5   M"
      ]
     },
     "execution_count": 3,
     "metadata": {},
     "output_type": "execute_result"
    }
   ],
   "source": [
    "# Transform member's 'AgeAtFirstClaim' to be a numeric value\n",
    "full_age = members.dropna(subset=['AgeAtFirstClaim'])\n",
    "age_groups = full_age['AgeAtFirstClaim'].value_counts().index.sort_values()\n",
    "ages = np.arange(len(age_groups))*10 + 5\n",
    "age_map = dict(zip(age_groups, ages))\n",
    "full_age = full_age.replace({'AgeAtFirstClaim': age_map})\n",
    "full_age.head()"
   ]
  },
  {
   "cell_type": "code",
   "execution_count": 4,
   "metadata": {},
   "outputs": [
    {
     "data": {
      "text/html": [
       "<div>\n",
       "<style scoped>\n",
       "    .dataframe tbody tr th:only-of-type {\n",
       "        vertical-align: middle;\n",
       "    }\n",
       "\n",
       "    .dataframe tbody tr th {\n",
       "        vertical-align: top;\n",
       "    }\n",
       "\n",
       "    .dataframe thead th {\n",
       "        text-align: right;\n",
       "    }\n",
       "</style>\n",
       "<table border=\"1\" class=\"dataframe\">\n",
       "  <thead>\n",
       "    <tr style=\"text-align: right;\">\n",
       "      <th></th>\n",
       "      <th>MemberID</th>\n",
       "      <th>AgeAtFirstClaim</th>\n",
       "      <th>Sex_M</th>\n",
       "    </tr>\n",
       "  </thead>\n",
       "  <tbody>\n",
       "    <tr>\n",
       "      <th>0</th>\n",
       "      <td>14723353</td>\n",
       "      <td>75</td>\n",
       "      <td>1</td>\n",
       "    </tr>\n",
       "    <tr>\n",
       "      <th>1</th>\n",
       "      <td>75706636</td>\n",
       "      <td>75</td>\n",
       "      <td>1</td>\n",
       "    </tr>\n",
       "    <tr>\n",
       "      <th>2</th>\n",
       "      <td>17320609</td>\n",
       "      <td>75</td>\n",
       "      <td>1</td>\n",
       "    </tr>\n",
       "    <tr>\n",
       "      <th>3</th>\n",
       "      <td>69690888</td>\n",
       "      <td>45</td>\n",
       "      <td>1</td>\n",
       "    </tr>\n",
       "    <tr>\n",
       "      <th>4</th>\n",
       "      <td>33004608</td>\n",
       "      <td>5</td>\n",
       "      <td>1</td>\n",
       "    </tr>\n",
       "  </tbody>\n",
       "</table>\n",
       "</div>"
      ],
      "text/plain": [
       "   MemberID  AgeAtFirstClaim  Sex_M\n",
       "0  14723353               75      1\n",
       "1  75706636               75      1\n",
       "2  17320609               75      1\n",
       "3  69690888               45      1\n",
       "4  33004608                5      1"
      ]
     },
     "execution_count": 4,
     "metadata": {},
     "output_type": "execute_result"
    }
   ],
   "source": [
    "# Add binary column for male and females\n",
    "members_ohe = pd.get_dummies(full_age, columns=[\"Sex\"]).drop('Sex_F', axis=1)\n",
    "members_ohe.head()"
   ]
  },
  {
   "cell_type": "code",
   "execution_count": 5,
   "metadata": {},
   "outputs": [],
   "source": [
    "# Fix DrugCount type\n",
    "drug['DrugCount'] = drug['DrugCount'].str.replace('7\\+', '7').astype(int)\n",
    "drug_by_yr = drug.groupby(['MemberID', 'Year'])[['DrugCount']].sum()\n",
    "# Fix LabCount type\n",
    "lab['LabCount'] = lab['LabCount'].str.replace('10\\+', '10').astype(int)\n",
    "lc_by_year = lab.groupby(['MemberID', 'Year'])[['LabCount']].sum()"
   ]
  },
  {
   "cell_type": "code",
   "execution_count": 6,
   "metadata": {},
   "outputs": [],
   "source": [
    "# Combine Sum of LabCounts and DrugCounts\n",
    "lab_drug_by_year = lc_by_year.merge(drug_by_yr, on=['MemberID', 'Year'], how='outer')\n",
    "lab_drug_by_year = lab_drug_by_year.fillna(0)\n",
    "lab_drug_by_year = lab_drug_by_year.reset_index()"
   ]
  },
  {
   "cell_type": "code",
   "execution_count": 7,
   "metadata": {},
   "outputs": [
    {
     "data": {
      "text/html": [
       "<div>\n",
       "<style scoped>\n",
       "    .dataframe tbody tr th:only-of-type {\n",
       "        vertical-align: middle;\n",
       "    }\n",
       "\n",
       "    .dataframe tbody tr th {\n",
       "        vertical-align: top;\n",
       "    }\n",
       "\n",
       "    .dataframe thead th {\n",
       "        text-align: right;\n",
       "    }\n",
       "</style>\n",
       "<table border=\"1\" class=\"dataframe\">\n",
       "  <thead>\n",
       "    <tr style=\"text-align: right;\">\n",
       "      <th></th>\n",
       "      <th>MemberID</th>\n",
       "      <th>PrimaryConditionGroup</th>\n",
       "      <th>PlaceSvc</th>\n",
       "      <th>LabCount</th>\n",
       "      <th>DrugCount</th>\n",
       "      <th>AgeAtFirstClaim</th>\n",
       "      <th>Sex_M</th>\n",
       "    </tr>\n",
       "  </thead>\n",
       "  <tbody>\n",
       "    <tr>\n",
       "      <th>0</th>\n",
       "      <td>42286978</td>\n",
       "      <td>NEUMENT</td>\n",
       "      <td>Office</td>\n",
       "      <td>8.0</td>\n",
       "      <td>26.0</td>\n",
       "      <td>85.0</td>\n",
       "      <td>0.0</td>\n",
       "    </tr>\n",
       "    <tr>\n",
       "      <th>1</th>\n",
       "      <td>97903248</td>\n",
       "      <td>NEUMENT</td>\n",
       "      <td>Office</td>\n",
       "      <td>19.0</td>\n",
       "      <td>47.0</td>\n",
       "      <td>75.0</td>\n",
       "      <td>0.0</td>\n",
       "    </tr>\n",
       "    <tr>\n",
       "      <th>2</th>\n",
       "      <td>2759427</td>\n",
       "      <td>METAB3</td>\n",
       "      <td>Office</td>\n",
       "      <td>4.0</td>\n",
       "      <td>29.0</td>\n",
       "      <td>45.0</td>\n",
       "      <td>1.0</td>\n",
       "    </tr>\n",
       "    <tr>\n",
       "      <th>3</th>\n",
       "      <td>73570559</td>\n",
       "      <td>METAB3</td>\n",
       "      <td>Independent Lab</td>\n",
       "      <td>31.0</td>\n",
       "      <td>0.0</td>\n",
       "      <td>55.0</td>\n",
       "      <td>0.0</td>\n",
       "    </tr>\n",
       "    <tr>\n",
       "      <th>4</th>\n",
       "      <td>11837054</td>\n",
       "      <td>FXDISLC</td>\n",
       "      <td>Outpatient Hospital</td>\n",
       "      <td>10.0</td>\n",
       "      <td>41.0</td>\n",
       "      <td>85.0</td>\n",
       "      <td>0.0</td>\n",
       "    </tr>\n",
       "  </tbody>\n",
       "</table>\n",
       "</div>"
      ],
      "text/plain": [
       "   MemberID PrimaryConditionGroup             PlaceSvc  LabCount  DrugCount  \\\n",
       "0  42286978               NEUMENT               Office       8.0       26.0   \n",
       "1  97903248               NEUMENT               Office      19.0       47.0   \n",
       "2   2759427                METAB3               Office       4.0       29.0   \n",
       "3  73570559                METAB3      Independent Lab      31.0        0.0   \n",
       "4  11837054               FXDISLC  Outpatient Hospital      10.0       41.0   \n",
       "\n",
       "   AgeAtFirstClaim  Sex_M  \n",
       "0             85.0    0.0  \n",
       "1             75.0    0.0  \n",
       "2             45.0    1.0  \n",
       "3             55.0    0.0  \n",
       "4             85.0    0.0  "
      ]
     },
     "execution_count": 7,
     "metadata": {},
     "output_type": "execute_result"
    }
   ],
   "source": [
    "# Claims DF with matched sum of LabCounts and DrugCounts for that 'Year' and 'MemberID'\n",
    "# Took MemberID, PrimaryConditionGroup, LabCount, DrugCount, PlaceSvc\n",
    "# Dropped columns with no PrimaryConditionGroup\n",
    "cleaned_claims = claims.merge(lab_drug_by_year, on=['MemberID', 'Year'], how='left')\n",
    "cleaned_claims = cleaned_claims.merge(members_ohe, on=['MemberID'], how='left')\n",
    "cleaned_claims = cleaned_claims[['MemberID', 'PrimaryConditionGroup', 'PlaceSvc', 'LabCount', 'DrugCount', 'AgeAtFirstClaim', 'Sex_M']]\n",
    "cleaned_claims[['LabCount', 'DrugCount']] = cleaned_claims[['LabCount', 'DrugCount']].fillna(0)\n",
    "cleaned_claims = cleaned_claims.dropna(subset=['PrimaryConditionGroup', 'PlaceSvc', 'AgeAtFirstClaim', 'Sex_M'])\n",
    "cleaned_claims.head()"
   ]
  },
  {
   "cell_type": "code",
   "execution_count": 33,
   "metadata": {},
   "outputs": [
    {
     "data": {
      "text/html": [
       "<div>\n",
       "<style scoped>\n",
       "    .dataframe tbody tr th:only-of-type {\n",
       "        vertical-align: middle;\n",
       "    }\n",
       "\n",
       "    .dataframe tbody tr th {\n",
       "        vertical-align: top;\n",
       "    }\n",
       "\n",
       "    .dataframe thead th {\n",
       "        text-align: right;\n",
       "    }\n",
       "</style>\n",
       "<table border=\"1\" class=\"dataframe\">\n",
       "  <thead>\n",
       "    <tr style=\"text-align: right;\">\n",
       "      <th></th>\n",
       "      <th>MemberID</th>\n",
       "      <th>PrimaryConditionGroup</th>\n",
       "      <th>LabCount</th>\n",
       "      <th>DrugCount</th>\n",
       "      <th>AgeAtFirstClaim</th>\n",
       "      <th>Sex_M</th>\n",
       "      <th>PlaceSvc_Ambulance</th>\n",
       "      <th>PlaceSvc_Home</th>\n",
       "      <th>PlaceSvc_Independent Lab</th>\n",
       "      <th>PlaceSvc_Inpatient Hospital</th>\n",
       "      <th>PlaceSvc_Office</th>\n",
       "      <th>PlaceSvc_Outpatient Hospital</th>\n",
       "      <th>PlaceSvc_Urgent Care</th>\n",
       "    </tr>\n",
       "  </thead>\n",
       "  <tbody>\n",
       "    <tr>\n",
       "      <th>0</th>\n",
       "      <td>42286978</td>\n",
       "      <td>NEUMENT</td>\n",
       "      <td>8.0</td>\n",
       "      <td>26.0</td>\n",
       "      <td>85.0</td>\n",
       "      <td>0.0</td>\n",
       "      <td>0</td>\n",
       "      <td>0</td>\n",
       "      <td>0</td>\n",
       "      <td>0</td>\n",
       "      <td>1</td>\n",
       "      <td>0</td>\n",
       "      <td>0</td>\n",
       "    </tr>\n",
       "    <tr>\n",
       "      <th>1</th>\n",
       "      <td>97903248</td>\n",
       "      <td>NEUMENT</td>\n",
       "      <td>19.0</td>\n",
       "      <td>47.0</td>\n",
       "      <td>75.0</td>\n",
       "      <td>0.0</td>\n",
       "      <td>0</td>\n",
       "      <td>0</td>\n",
       "      <td>0</td>\n",
       "      <td>0</td>\n",
       "      <td>1</td>\n",
       "      <td>0</td>\n",
       "      <td>0</td>\n",
       "    </tr>\n",
       "    <tr>\n",
       "      <th>2</th>\n",
       "      <td>2759427</td>\n",
       "      <td>METAB3</td>\n",
       "      <td>4.0</td>\n",
       "      <td>29.0</td>\n",
       "      <td>45.0</td>\n",
       "      <td>1.0</td>\n",
       "      <td>0</td>\n",
       "      <td>0</td>\n",
       "      <td>0</td>\n",
       "      <td>0</td>\n",
       "      <td>1</td>\n",
       "      <td>0</td>\n",
       "      <td>0</td>\n",
       "    </tr>\n",
       "    <tr>\n",
       "      <th>3</th>\n",
       "      <td>73570559</td>\n",
       "      <td>METAB3</td>\n",
       "      <td>31.0</td>\n",
       "      <td>0.0</td>\n",
       "      <td>55.0</td>\n",
       "      <td>0.0</td>\n",
       "      <td>0</td>\n",
       "      <td>0</td>\n",
       "      <td>1</td>\n",
       "      <td>0</td>\n",
       "      <td>0</td>\n",
       "      <td>0</td>\n",
       "      <td>0</td>\n",
       "    </tr>\n",
       "    <tr>\n",
       "      <th>4</th>\n",
       "      <td>11837054</td>\n",
       "      <td>FXDISLC</td>\n",
       "      <td>10.0</td>\n",
       "      <td>41.0</td>\n",
       "      <td>85.0</td>\n",
       "      <td>0.0</td>\n",
       "      <td>0</td>\n",
       "      <td>0</td>\n",
       "      <td>0</td>\n",
       "      <td>0</td>\n",
       "      <td>0</td>\n",
       "      <td>1</td>\n",
       "      <td>0</td>\n",
       "    </tr>\n",
       "  </tbody>\n",
       "</table>\n",
       "</div>"
      ],
      "text/plain": [
       "   MemberID PrimaryConditionGroup  LabCount  DrugCount  AgeAtFirstClaim  \\\n",
       "0  42286978               NEUMENT       8.0       26.0             85.0   \n",
       "1  97903248               NEUMENT      19.0       47.0             75.0   \n",
       "2   2759427                METAB3       4.0       29.0             45.0   \n",
       "3  73570559                METAB3      31.0        0.0             55.0   \n",
       "4  11837054               FXDISLC      10.0       41.0             85.0   \n",
       "\n",
       "   Sex_M  PlaceSvc_Ambulance  PlaceSvc_Home  PlaceSvc_Independent Lab  \\\n",
       "0    0.0                   0              0                         0   \n",
       "1    0.0                   0              0                         0   \n",
       "2    1.0                   0              0                         0   \n",
       "3    0.0                   0              0                         1   \n",
       "4    0.0                   0              0                         0   \n",
       "\n",
       "   PlaceSvc_Inpatient Hospital  PlaceSvc_Office  PlaceSvc_Outpatient Hospital  \\\n",
       "0                            0                1                             0   \n",
       "1                            0                1                             0   \n",
       "2                            0                1                             0   \n",
       "3                            0                0                             0   \n",
       "4                            0                0                             1   \n",
       "\n",
       "   PlaceSvc_Urgent Care  \n",
       "0                     0  \n",
       "1                     0  \n",
       "2                     0  \n",
       "3                     0  \n",
       "4                     0  "
      ]
     },
     "execution_count": 33,
     "metadata": {},
     "output_type": "execute_result"
    }
   ],
   "source": [
    "# OHE for 'PlaceSvc'\n",
    "claims_ohe = pd.get_dummies(cleaned_claims, columns=[\"PlaceSvc\"])\n",
    "claims_ohe = claims_ohe.drop('PlaceSvc_Other', axis=1)\n",
    "claims_ohe.head()"
   ]
  },
  {
   "cell_type": "code",
   "execution_count": 34,
   "metadata": {},
   "outputs": [
    {
     "data": {
      "text/plain": [
       "MemberID                        0\n",
       "PrimaryConditionGroup           0\n",
       "LabCount                        0\n",
       "DrugCount                       0\n",
       "AgeAtFirstClaim                 0\n",
       "Sex_M                           0\n",
       "PlaceSvc_Ambulance              0\n",
       "PlaceSvc_Home                   0\n",
       "PlaceSvc_Independent Lab        0\n",
       "PlaceSvc_Inpatient Hospital     0\n",
       "PlaceSvc_Office                 0\n",
       "PlaceSvc_Outpatient Hospital    0\n",
       "PlaceSvc_Urgent Care            0\n",
       "dtype: int64"
      ]
     },
     "execution_count": 34,
     "metadata": {},
     "output_type": "execute_result"
    }
   ],
   "source": [
    "claims_ohe.isna().sum()"
   ]
  },
  {
   "cell_type": "code",
   "execution_count": 35,
   "metadata": {},
   "outputs": [
    {
     "data": {
      "text/plain": [
       "(2402162, 13)"
      ]
     },
     "execution_count": 35,
     "metadata": {},
     "output_type": "execute_result"
    }
   ],
   "source": [
    "claims_ohe.shape"
   ]
  },
  {
   "cell_type": "code",
   "execution_count": 41,
   "metadata": {},
   "outputs": [],
   "source": [
    "# Test Train Split\n",
    "smaller_claims_ohe = claims_ohe[:20000]\n",
    "X, y = smaller_claims_ohe.drop('PrimaryConditionGroup', axis=1), smaller_claims_ohe['PrimaryConditionGroup']\n",
    "X_train, X_test, y_train, y_test = train_test_split(\n",
    "    X, y, test_size=0.33, random_state=7)"
   ]
  },
  {
   "cell_type": "code",
   "execution_count": 42,
   "metadata": {},
   "outputs": [
    {
     "data": {
      "text/plain": [
       "0.2106060606060606"
      ]
     },
     "execution_count": 42,
     "metadata": {},
     "output_type": "execute_result"
    }
   ],
   "source": [
    "# SVM Multiclass Model\n",
    "svm_model = svm.SVC().fit(X_train, y_train)\n",
    "y_pred = svm_model.predict(X_test)\n",
    "svm_model.score(X_test, y_test)"
   ]
  },
  {
   "cell_type": "code",
   "execution_count": 23,
   "metadata": {},
   "outputs": [],
   "source": [
    "import pickle\n",
    "# save the classifier\n",
    "filename = 'svm_pcb_02_24_20000_rand_7.pkl'\n",
    "pickle.dump(svm_model, open(filename, 'wb'))    "
   ]
  },
  {
   "cell_type": "code",
   "execution_count": 56,
   "metadata": {},
   "outputs": [
    {
     "data": {
      "text/plain": [
       "dict_items([('0-9', 5), ('10-19', 15), ('20-29', 25), ('30-39', 35), ('40-49', 45), ('50-59', 55), ('60-69', 65), ('70-79', 75), ('80+', 85)])"
      ]
     },
     "execution_count": 56,
     "metadata": {},
     "output_type": "execute_result"
    }
   ],
   "source": [
    "age_map.items()"
   ]
  },
  {
   "cell_type": "code",
   "execution_count": 70,
   "metadata": {},
   "outputs": [
    {
     "data": {
      "text/html": [
       "<div>\n",
       "<style scoped>\n",
       "    .dataframe tbody tr th:only-of-type {\n",
       "        vertical-align: middle;\n",
       "    }\n",
       "\n",
       "    .dataframe tbody tr th {\n",
       "        vertical-align: top;\n",
       "    }\n",
       "\n",
       "    .dataframe thead th {\n",
       "        text-align: right;\n",
       "    }\n",
       "</style>\n",
       "<table border=\"1\" class=\"dataframe\">\n",
       "  <thead>\n",
       "    <tr style=\"text-align: right;\">\n",
       "      <th></th>\n",
       "      <th>AgeAtFirstClaim</th>\n",
       "      <th>AgeApproximation</th>\n",
       "    </tr>\n",
       "  </thead>\n",
       "  <tbody>\n",
       "    <tr>\n",
       "      <th>0</th>\n",
       "      <td>0-9</td>\n",
       "      <td>5</td>\n",
       "    </tr>\n",
       "    <tr>\n",
       "      <th>1</th>\n",
       "      <td>10-19</td>\n",
       "      <td>15</td>\n",
       "    </tr>\n",
       "    <tr>\n",
       "      <th>2</th>\n",
       "      <td>20-29</td>\n",
       "      <td>25</td>\n",
       "    </tr>\n",
       "    <tr>\n",
       "      <th>3</th>\n",
       "      <td>30-39</td>\n",
       "      <td>35</td>\n",
       "    </tr>\n",
       "    <tr>\n",
       "      <th>4</th>\n",
       "      <td>40-49</td>\n",
       "      <td>45</td>\n",
       "    </tr>\n",
       "    <tr>\n",
       "      <th>5</th>\n",
       "      <td>50-59</td>\n",
       "      <td>55</td>\n",
       "    </tr>\n",
       "    <tr>\n",
       "      <th>6</th>\n",
       "      <td>60-69</td>\n",
       "      <td>65</td>\n",
       "    </tr>\n",
       "    <tr>\n",
       "      <th>7</th>\n",
       "      <td>70-79</td>\n",
       "      <td>75</td>\n",
       "    </tr>\n",
       "    <tr>\n",
       "      <th>8</th>\n",
       "      <td>80+</td>\n",
       "      <td>85</td>\n",
       "    </tr>\n",
       "  </tbody>\n",
       "</table>\n",
       "</div>"
      ],
      "text/plain": [
       "  AgeAtFirstClaim  AgeApproximation\n",
       "0             0-9                 5\n",
       "1           10-19                15\n",
       "2           20-29                25\n",
       "3           30-39                35\n",
       "4           40-49                45\n",
       "5           50-59                55\n",
       "6           60-69                65\n",
       "7           70-79                75\n",
       "8             80+                85"
      ]
     },
     "execution_count": 70,
     "metadata": {},
     "output_type": "execute_result"
    }
   ],
   "source": [
    "age_map_df = pd.DataFrame(age_map, index=[0]).transpose().reset_index()\n",
    "age_map_df = age_map_df.rename(columns={'index':'AgeAtFirstClaim', 0:'AgeApproximation'})\n",
    "age_map_df"
   ]
  },
  {
   "cell_type": "code",
   "execution_count": 71,
   "metadata": {},
   "outputs": [
    {
     "data": {
      "text/plain": [
       "(2402162, 13)"
      ]
     },
     "execution_count": 71,
     "metadata": {},
     "output_type": "execute_result"
    }
   ],
   "source": [
    "claims_ohe.shape"
   ]
  },
  {
   "cell_type": "code",
   "execution_count": 78,
   "metadata": {},
   "outputs": [
    {
     "data": {
      "text/plain": [
       "<matplotlib.legend.Legend at 0x112f26e48>"
      ]
     },
     "execution_count": 78,
     "metadata": {},
     "output_type": "execute_result"
    },
    {
     "data": {
      "image/png": "[encoded data removed]",
      "text/plain": [
       "<Figure size 432x288 with 1 Axes>"
      ]
     },
     "metadata": {},
     "output_type": "display_data"
    }
   ],
   "source": [
    "fig, ax = plt.subplots()\n",
    "ax.set_xticks(trials)\n",
    "ax.loglog()\n",
    "lr = [.18111, .2, .211, .21157, .31, .33]\n",
    "svm = [.31, .32225, .3667888, .37999, .38256, .4101198]\n",
    "rt = [.33, .312, .3556, .36254, .3354, .37021]\n",
    "trials = [100, 1000, 10000, 20000, 100000, 2402162]\n",
    "plt.plot(trials, lr, label='Linear Regression')\n",
    "plt.plot(trials, svm, label='SVM')\n",
    "plt.plot(trials, rt, label='RF Decision Tree')\n",
    "plt.xlabel('Sample Data Size')\n",
    "plt.ylabel('Test Accuracy')\n",
    "plt.title('Data Size vs. Testing Accuracy')\n",
    "plt.legend()"
   ]
  },
  {
   "cell_type": "code",
   "execution_count": null,
   "metadata": {},
   "outputs": [],
   "source": []
  }
 ],
 "metadata": {
  "kernelspec": {
   "display_name": "Python 3",
   "language": "python",
   "name": "python3"
  },
  "language_info": {
   "codemirror_mode": {
    "name": "ipython",
    "version": 3
   },
   "file_extension": ".py",
   "mimetype": "text/x-python",
   "name": "python",
   "nbconvert_exporter": "python",
   "pygments_lexer": "ipython3",
   "version": "3.6.5"
  }
 },
 "nbformat": 4,
 "nbformat_minor": 2
}
